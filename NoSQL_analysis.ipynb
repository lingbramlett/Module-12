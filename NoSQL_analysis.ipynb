{
  "cells": [
    {
      "cell_type": "markdown",
      "id": "9a57c4c6",
      "metadata": {
        "id": "9a57c4c6"
      },
      "source": [
        "# Eat Safe, Love"
      ]
    },
    {
      "cell_type": "markdown",
      "id": "064ef857",
      "metadata": {
        "id": "064ef857"
      },
      "source": [
        "## Notebook Set Up"
      ]
    },
    {
      "cell_type": "code",
      "execution_count": 3,
      "id": "3ecdd008",
      "metadata": {
        "colab": {
          "base_uri": "https://localhost:8080/",
          "height": 350
        },
        "id": "3ecdd008",
        "outputId": "d2bc1ba6-67b7-4591-a0c8-ebc0024f06c2"
      },
      "outputs": [
        {
          "output_type": "error",
          "ename": "ModuleNotFoundError",
          "evalue": "No module named 'pymongo'",
          "traceback": [
            "\u001b[0;31m---------------------------------------------------------------------------\u001b[0m",
            "\u001b[0;31mModuleNotFoundError\u001b[0m                       Traceback (most recent call last)",
            "\u001b[0;32m<ipython-input-3-5ec61df776df>\u001b[0m in \u001b[0;36m<cell line: 0>\u001b[0;34m()\u001b[0m\n\u001b[0;32m----> 1\u001b[0;31m \u001b[0;32mfrom\u001b[0m \u001b[0mpymongo\u001b[0m \u001b[0;32mimport\u001b[0m \u001b[0mMongoClient\u001b[0m\u001b[0;34m\u001b[0m\u001b[0;34m\u001b[0m\u001b[0m\n\u001b[0m\u001b[1;32m      2\u001b[0m \u001b[0;32mimport\u001b[0m \u001b[0mpandas\u001b[0m \u001b[0;32mas\u001b[0m \u001b[0mpd\u001b[0m\u001b[0;34m\u001b[0m\u001b[0;34m\u001b[0m\u001b[0m\n\u001b[1;32m      3\u001b[0m \u001b[0;32mfrom\u001b[0m \u001b[0mpprint\u001b[0m \u001b[0;32mimport\u001b[0m \u001b[0mpprint\u001b[0m\u001b[0;34m\u001b[0m\u001b[0;34m\u001b[0m\u001b[0m\n",
            "\u001b[0;31mModuleNotFoundError\u001b[0m: No module named 'pymongo'",
            "",
            "\u001b[0;31m---------------------------------------------------------------------------\u001b[0;32m\nNOTE: If your import is failing due to a missing package, you can\nmanually install dependencies using either !pip or !apt.\n\nTo view examples of installing some common dependencies, click the\n\"Open Examples\" button below.\n\u001b[0;31m---------------------------------------------------------------------------\u001b[0m\n"
          ],
          "errorDetails": {
            "actions": [
              {
                "action": "open_url",
                "actionText": "Open Examples",
                "url": "/notebooks/snippets/importing_libraries.ipynb"
              }
            ]
          }
        }
      ],
      "source": [
        "from pymongo import MongoClient\n",
        "import pandas as pd\n",
        "from pprint import pprint"
      ]
    },
    {
      "cell_type": "code",
      "execution_count": null,
      "id": "59390c4a",
      "metadata": {
        "id": "59390c4a"
      },
      "outputs": [],
      "source": [
        "# Create an instance of MongoClient\n",
        "mongo = MongoClient(port=27017)"
      ]
    },
    {
      "cell_type": "code",
      "execution_count": null,
      "id": "71e373c1",
      "metadata": {
        "id": "71e373c1"
      },
      "outputs": [],
      "source": [
        "# assign the uk_food database to a variable name\n",
        "db = mongo['uk_food']"
      ]
    },
    {
      "cell_type": "code",
      "execution_count": null,
      "id": "18ab463c",
      "metadata": {
        "id": "18ab463c"
      },
      "outputs": [],
      "source": [
        "# review the collections in our database\n",
        "print(db.list_collection_names())"
      ]
    },
    {
      "cell_type": "code",
      "execution_count": null,
      "id": "11c9f11b",
      "metadata": {
        "id": "11c9f11b"
      },
      "outputs": [],
      "source": [
        "# assign the collection to a variable\n",
        "establishments = db['establishments']"
      ]
    },
    {
      "cell_type": "markdown",
      "id": "d5671434",
      "metadata": {
        "id": "d5671434"
      },
      "source": [
        "## Part 3: Exploratory Analysis\n",
        "Unless otherwise stated, for each question:\n",
        "* Use `count_documents` to display the number of documents contained in the result.\n",
        "* Display the first document in the results using `pprint`.\n",
        "* Convert the result to a Pandas DataFrame, print the number of rows in the DataFrame, and display the first 10 rows."
      ]
    },
    {
      "cell_type": "markdown",
      "id": "314bd884",
      "metadata": {
        "id": "314bd884"
      },
      "source": [
        "### 1. Which establishments have a hygiene score equal to 20?"
      ]
    },
    {
      "cell_type": "code",
      "execution_count": null,
      "id": "c2da7648",
      "metadata": {
        "id": "c2da7648"
      },
      "outputs": [],
      "source": [
        "# Find the establishments with a hygiene score of 20\n",
        "hygiene_20_query = {\"scores.Hygiene\": 20}\n",
        "\n",
        "# Use count_documents to display the number of documents in the result\n",
        "hygiene_20_count = establishments.count_documents(hygiene_20_query)\n",
        "print(f\"Number of establishments with a hygiene score of 20: {hygiene_20_count}\")\n",
        "\n",
        "# Display the first document in the results using pprint\n",
        "print(\"First document:\")\n",
        "pprint(establishments.find_one(hygiene_20_query))"
      ]
    },
    {
      "cell_type": "code",
      "execution_count": null,
      "id": "a6e5cece",
      "metadata": {
        "id": "a6e5cece"
      },
      "outputs": [],
      "source": [
        "# Convert the result to a Pandas DataFrame\n",
        "hygiene_20_results = list(establishments.find(hygiene_20_query))\n",
        "hygiene_20_df = pd.DataFrame(hygiene_20_results)\n",
        "\n",
        "# Display the number of rows in the DataFrame\n",
        "print(f\"Number of rows: {len(hygiene_20_df)}\")\n",
        "\n",
        "# Display the first 10 rows of the DataFrame\n",
        "hygiene_20_df.head(10)\n"
      ]
    },
    {
      "cell_type": "markdown",
      "id": "0ef4395a",
      "metadata": {
        "id": "0ef4395a"
      },
      "source": [
        "### 2. Which establishments in London have a `RatingValue` greater than or equal to 4?"
      ]
    },
    {
      "cell_type": "code",
      "execution_count": null,
      "id": "93c63829",
      "metadata": {
        "id": "93c63829"
      },
      "outputs": [],
      "source": [
        "# Find the establishments with London as the Local Authority and has a RatingValue greater than or equal to 4.\n",
        "london_rating_query = {\"LocalAuthorityName\": {\"$regex\": \"London\"},\n",
        "                       \"RatingValue\": {\"$gte\": 4}}\n",
        "\n",
        "# Use count_documents to display the number of documents in the result\n",
        "london_rating_count = establishments.count_documents(london_rating_query)\n",
        "print(f\"Number of London establishments rated 4 or greater: {london_rating_count}\")\n",
        "\n",
        "# Display the first document in the results using pprint\n",
        "print(\"First document:\")\n",
        "pprint(establishments.find_one(london_rating_query))\n"
      ]
    },
    {
      "cell_type": "code",
      "execution_count": 4,
      "id": "07e24ccb",
      "metadata": {
        "colab": {
          "base_uri": "https://localhost:8080/",
          "height": 211
        },
        "id": "07e24ccb",
        "outputId": "dc8a6eab-f95f-435c-d7e0-944e38eb462d"
      },
      "outputs": [
        {
          "output_type": "error",
          "ename": "NameError",
          "evalue": "name 'establishments' is not defined",
          "traceback": [
            "\u001b[0;31m---------------------------------------------------------------------------\u001b[0m",
            "\u001b[0;31mNameError\u001b[0m                                 Traceback (most recent call last)",
            "\u001b[0;32m<ipython-input-4-1fa5f531ef2e>\u001b[0m in \u001b[0;36m<cell line: 0>\u001b[0;34m()\u001b[0m\n\u001b[1;32m      1\u001b[0m \u001b[0;31m# Convert the result to a Pandas DataFrame\u001b[0m\u001b[0;34m\u001b[0m\u001b[0;34m\u001b[0m\u001b[0m\n\u001b[0;32m----> 2\u001b[0;31m \u001b[0mlondon_rating_results\u001b[0m \u001b[0;34m=\u001b[0m \u001b[0mlist\u001b[0m\u001b[0;34m(\u001b[0m\u001b[0mestablishments\u001b[0m\u001b[0;34m.\u001b[0m\u001b[0mfind\u001b[0m\u001b[0;34m(\u001b[0m\u001b[0mlondon_rating_query\u001b[0m\u001b[0;34m)\u001b[0m\u001b[0;34m)\u001b[0m\u001b[0;34m\u001b[0m\u001b[0;34m\u001b[0m\u001b[0m\n\u001b[0m\u001b[1;32m      3\u001b[0m \u001b[0mlondon_rating_df\u001b[0m \u001b[0;34m=\u001b[0m \u001b[0mpd\u001b[0m\u001b[0;34m.\u001b[0m\u001b[0mDataFrame\u001b[0m\u001b[0;34m(\u001b[0m\u001b[0mlondon_rating_results\u001b[0m\u001b[0;34m)\u001b[0m\u001b[0;34m\u001b[0m\u001b[0;34m\u001b[0m\u001b[0m\n\u001b[1;32m      4\u001b[0m \u001b[0;34m\u001b[0m\u001b[0m\n\u001b[1;32m      5\u001b[0m \u001b[0;31m# Display the number of rows in the DataFrame\u001b[0m\u001b[0;34m\u001b[0m\u001b[0;34m\u001b[0m\u001b[0m\n",
            "\u001b[0;31mNameError\u001b[0m: name 'establishments' is not defined"
          ]
        }
      ],
      "source": [
        "# Convert the result to a Pandas DataFrame\n",
        "london_rating_results = list(establishments.find(london_rating_query))\n",
        "london_rating_df = pd.DataFrame(london_rating_results)\n",
        "\n",
        "# Display the number of rows in the DataFrame\n",
        "print(f\"Number of rows: {len(london_rating_df)}\")\n",
        "\n",
        "# Display the first 10 rows of the DataFrame\n",
        "london_rating_df.head(10)\n"
      ]
    },
    {
      "cell_type": "markdown",
      "id": "4e570caf",
      "metadata": {
        "id": "4e570caf"
      },
      "source": [
        "### 3. What are the top 5 establishments with a `RatingValue` rating value of 5, sorted by lowest hygiene score, nearest to the new restaurant added, \"Penang Flavours\"?"
      ]
    },
    {
      "cell_type": "code",
      "execution_count": 5,
      "id": "7f599f3d",
      "metadata": {
        "colab": {
          "base_uri": "https://localhost:8080/",
          "height": 211
        },
        "id": "7f599f3d",
        "outputId": "8f3dcf00-88ff-47d5-f56c-9bfa07702bdc"
      },
      "outputs": [
        {
          "output_type": "error",
          "ename": "NameError",
          "evalue": "name 'establishments' is not defined",
          "traceback": [
            "\u001b[0;31m---------------------------------------------------------------------------\u001b[0m",
            "\u001b[0;31mNameError\u001b[0m                                 Traceback (most recent call last)",
            "\u001b[0;32m<ipython-input-5-60350a36a304>\u001b[0m in \u001b[0;36m<cell line: 0>\u001b[0;34m()\u001b[0m\n\u001b[1;32m     12\u001b[0m \u001b[0mlimit\u001b[0m \u001b[0;34m=\u001b[0m \u001b[0;36m10\u001b[0m\u001b[0;34m\u001b[0m\u001b[0;34m\u001b[0m\u001b[0m\n\u001b[1;32m     13\u001b[0m \u001b[0;34m\u001b[0m\u001b[0m\n\u001b[0;32m---> 14\u001b[0;31m \u001b[0mresults\u001b[0m \u001b[0;34m=\u001b[0m \u001b[0mlist\u001b[0m\u001b[0;34m(\u001b[0m\u001b[0mestablishments\u001b[0m\u001b[0;34m.\u001b[0m\u001b[0mfind\u001b[0m\u001b[0;34m(\u001b[0m\u001b[0mquery\u001b[0m\u001b[0;34m)\u001b[0m\u001b[0;34m.\u001b[0m\u001b[0msort\u001b[0m\u001b[0;34m(\u001b[0m\u001b[0msort\u001b[0m\u001b[0;34m)\u001b[0m\u001b[0;34m.\u001b[0m\u001b[0mlimit\u001b[0m\u001b[0;34m(\u001b[0m\u001b[0mlimit\u001b[0m\u001b[0;34m)\u001b[0m\u001b[0;34m)\u001b[0m\u001b[0;34m\u001b[0m\u001b[0;34m\u001b[0m\u001b[0m\n\u001b[0m\u001b[1;32m     15\u001b[0m \u001b[0;32mfor\u001b[0m \u001b[0mres\u001b[0m \u001b[0;32min\u001b[0m \u001b[0mresults\u001b[0m\u001b[0;34m:\u001b[0m\u001b[0;34m\u001b[0m\u001b[0;34m\u001b[0m\u001b[0m\n\u001b[1;32m     16\u001b[0m     \u001b[0mprint\u001b[0m\u001b[0;34m(\u001b[0m\u001b[0mres\u001b[0m\u001b[0;34m)\u001b[0m\u001b[0;34m\u001b[0m\u001b[0;34m\u001b[0m\u001b[0m\n",
            "\u001b[0;31mNameError\u001b[0m: name 'establishments' is not defined"
          ]
        }
      ],
      "source": [
        "degree_search = 0.01\n",
        "latitude = 51.5074  # Example latitude\n",
        "longitude = -0.1278  # Example longitude\n",
        "\n",
        "query = {\n",
        "    'geocode.latitude': {'$gte': latitude - degree_search, '$lte': latitude + degree_search},\n",
        "    'geocode.longitude': {'$gte': longitude - degree_search, '$lte': longitude + degree_search},\n",
        "    'RatingValue': 5\n",
        "}\n",
        "\n",
        "sort = [('scores.Hygiene', 1)]\n",
        "limit = 10\n",
        "\n",
        "results = list(establishments.find(query).sort(sort).limit(limit))\n",
        "for res in results:\n",
        "    print(res)\n"
      ]
    },
    {
      "cell_type": "code",
      "execution_count": null,
      "id": "a6ad16f7",
      "metadata": {
        "id": "a6ad16f7"
      },
      "outputs": [],
      "source": [
        "# Convert result to Pandas DataFrame\n",
        "best_near_penang_df = pd.DataFrame(best_near_penang_results)\n",
        "best_near_penang_df\n"
      ]
    },
    {
      "cell_type": "markdown",
      "id": "67281254",
      "metadata": {
        "id": "67281254"
      },
      "source": [
        "### 4. How many establishments in each Local Authority area have a hygiene score of 0?"
      ]
    },
    {
      "cell_type": "code",
      "execution_count": null,
      "id": "4eeb227e",
      "metadata": {
        "id": "4eeb227e"
      },
      "outputs": [],
      "source": [
        "pipeline = [\n",
        "    {'$match': {'scores.Hygiene': 0}},\n",
        "    {'$group': {'_id': '$LocalAuthorityName', 'count': {'$sum': 1}}},\n",
        "    {'$sort': {'count': -1}}\n",
        "]\n",
        "\n",
        "results = list(establishments.aggregate(pipeline))\n",
        "print(f'Total Documents: {len(results)}')\n",
        "print(results[:10])\n"
      ]
    },
    {
      "cell_type": "code",
      "execution_count": null,
      "id": "d8aab364",
      "metadata": {
        "id": "d8aab364"
      },
      "outputs": [],
      "source": [
        "# Convert the result to a Pandas DataFrame\n",
        "hygiene_0_df = pd.DataFrame(hygiene_0_results)\n",
        "\n",
        "# Display the number of rows in the DataFrame\n",
        "print(f\"Number of rows: {len(hygiene_0_df)}\")\n",
        "\n",
        "# Display the first 10 rows of the DataFrame\n",
        "hygiene_0_df.head(10)\n"
      ]
    }
  ],
  "metadata": {
    "kernelspec": {
      "display_name": "Python 3 (ipykernel)",
      "language": "python",
      "name": "python3"
    },
    "language_info": {
      "codemirror_mode": {
        "name": "ipython",
        "version": 3
      },
      "file_extension": ".py",
      "mimetype": "text/x-python",
      "name": "python",
      "nbconvert_exporter": "python",
      "pygments_lexer": "ipython3",
      "version": "3.10.4"
    },
    "colab": {
      "provenance": []
    }
  },
  "nbformat": 4,
  "nbformat_minor": 5
}
